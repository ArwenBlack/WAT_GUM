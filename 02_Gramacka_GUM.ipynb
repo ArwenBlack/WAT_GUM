{
 "cells": [
  {
   "cell_type": "code",
   "execution_count": 1,
   "id": "14e9f7fd",
   "metadata": {},
   "outputs": [],
   "source": [
    "import string\n",
    "import re\n",
    "from pickle import load,dump\n",
    "from unicodedata import normalize\n",
    "from numpy import array\n",
    "from numpy.random import rand\n",
    "from numpy.random import shuffle\n",
    "from numpy import argmax\n",
    "import tensorflow as tf\n",
    "from tensorflow.keras.preprocessing.text import Tokenizer\n",
    "from tensorflow.keras.preprocessing.sequence import pad_sequences\n",
    "from tensorflow.keras.utils import to_categorical\n",
    "from tensorflow.keras.models import Sequential\n",
    "from tensorflow.keras.layers import *\n",
    "from tensorflow.keras.callbacks import ModelCheckpoint\n",
    "from tensorflow.keras import optimizers\n",
    "from tensorflow.keras.models import load_model\n",
    "from nltk.translate.bleu_score import corpus_bleu\n",
    "from nltk.translate.bleu_score import sentence_bleu\n",
    "import pandas as pd\n",
    "from tqdm import tqdm\n",
    "import spacy\n",
    "\n",
    "nlp = spacy.load('en_core_web_lg')\n",
    "pd.set_option('display.max_colwidth', None)"
   ]
  },
  {
   "cell_type": "code",
   "execution_count": 2,
   "id": "ecc07dd7",
   "metadata": {},
   "outputs": [],
   "source": [
    "df = pd.read_csv('fr.csv')"
   ]
  },
  {
   "cell_type": "code",
   "execution_count": 3,
   "id": "c2a4173b",
   "metadata": {},
   "outputs": [
    {
     "data": {
      "text/html": [
       "<div>\n",
       "<style scoped>\n",
       "    .dataframe tbody tr th:only-of-type {\n",
       "        vertical-align: middle;\n",
       "    }\n",
       "\n",
       "    .dataframe tbody tr th {\n",
       "        vertical-align: top;\n",
       "    }\n",
       "\n",
       "    .dataframe thead th {\n",
       "        text-align: right;\n",
       "    }\n",
       "</style>\n",
       "<table border=\"1\" class=\"dataframe\">\n",
       "  <thead>\n",
       "    <tr style=\"text-align: right;\">\n",
       "      <th></th>\n",
       "      <th>Unnamed: 0</th>\n",
       "      <th>eng</th>\n",
       "      <th>fr</th>\n",
       "      <th>info</th>\n",
       "    </tr>\n",
       "  </thead>\n",
       "  <tbody>\n",
       "    <tr>\n",
       "      <th>9263</th>\n",
       "      <td>9263</td>\n",
       "      <td>We're stuffed.</td>\n",
       "      <td>Nous sommes gavées.</td>\n",
       "      <td>CC-BY 2.0 (France) Attribution: tatoeba.org #2203413 (CK) &amp; #4777318 (sacredceltic)</td>\n",
       "    </tr>\n",
       "  </tbody>\n",
       "</table>\n",
       "</div>"
      ],
      "text/plain": [
       "      Unnamed: 0             eng                   fr  \\\n",
       "9263        9263  We're stuffed.  Nous sommes gavées.   \n",
       "\n",
       "                                                                                     info  \n",
       "9263  CC-BY 2.0 (France) Attribution: tatoeba.org #2203413 (CK) & #4777318 (sacredceltic)  "
      ]
     },
     "execution_count": 3,
     "metadata": {},
     "output_type": "execute_result"
    }
   ],
   "source": [
    "df.sample()"
   ]
  },
  {
   "cell_type": "code",
   "execution_count": 4,
   "id": "e1e04e39",
   "metadata": {},
   "outputs": [
    {
     "name": "stderr",
     "output_type": "stream",
     "text": [
      "C:\\Users\\Weronika Gramacka\\AppData\\Local\\Temp\\ipykernel_29324\\3677572769.py:4: FutureWarning: The default value of regex will change from True to False in a future version.\n",
      "  df.loc[:, str(c+'_clean')] = df.loc[:,str(c+'_clean')].str.replace('[ ][a-z][.]', ' ')\n",
      "C:\\Users\\Weronika Gramacka\\AppData\\Local\\Temp\\ipykernel_29324\\3677572769.py:5: FutureWarning: The default value of regex will change from True to False in a future version.\n",
      "  df.loc[:, str(c+'_clean')] = df.loc[:, str(c+'_clean')].str.replace(r'[^\\w\\s]', ' ')\n",
      "C:\\Users\\Weronika Gramacka\\AppData\\Local\\Temp\\ipykernel_29324\\3677572769.py:6: FutureWarning: The default value of regex will change from True to False in a future version.\n",
      "  df.loc[:, str(c+'_clean')] = df.loc[:, str(c+'_clean')].str.replace('\\d+', ' ')\n",
      "C:\\Users\\Weronika Gramacka\\AppData\\Local\\Temp\\ipykernel_29324\\3677572769.py:4: FutureWarning: The default value of regex will change from True to False in a future version.\n",
      "  df.loc[:, str(c+'_clean')] = df.loc[:,str(c+'_clean')].str.replace('[ ][a-z][.]', ' ')\n",
      "C:\\Users\\Weronika Gramacka\\AppData\\Local\\Temp\\ipykernel_29324\\3677572769.py:5: FutureWarning: The default value of regex will change from True to False in a future version.\n",
      "  df.loc[:, str(c+'_clean')] = df.loc[:, str(c+'_clean')].str.replace(r'[^\\w\\s]', ' ')\n",
      "C:\\Users\\Weronika Gramacka\\AppData\\Local\\Temp\\ipykernel_29324\\3677572769.py:6: FutureWarning: The default value of regex will change from True to False in a future version.\n",
      "  df.loc[:, str(c+'_clean')] = df.loc[:, str(c+'_clean')].str.replace('\\d+', ' ')\n"
     ]
    }
   ],
   "source": [
    "tqdm.pandas()\n",
    "for c in ['eng', 'fr']:\n",
    "    df.loc[:, str(c+'_clean')] = df.loc[:, c].str.replace('/', ' ')\n",
    "    df.loc[:, str(c+'_clean')] = df.loc[:,str(c+'_clean')].str.replace('[ ][a-z][.]', ' ')\n",
    "    df.loc[:, str(c+'_clean')] = df.loc[:, str(c+'_clean')].str.replace(r'[^\\w\\s]', ' ')\n",
    "    df.loc[:, str(c+'_clean')] = df.loc[:, str(c+'_clean')].str.replace('\\d+', ' ')\n",
    "    df = df.astype(str)\n",
    "    df[str(c+'_clean')] = df[str(c+'_clean')].str.lower()"
   ]
  },
  {
   "cell_type": "code",
   "execution_count": 5,
   "id": "863b5563",
   "metadata": {},
   "outputs": [
    {
     "data": {
      "text/html": [
       "<div>\n",
       "<style scoped>\n",
       "    .dataframe tbody tr th:only-of-type {\n",
       "        vertical-align: middle;\n",
       "    }\n",
       "\n",
       "    .dataframe tbody tr th {\n",
       "        vertical-align: top;\n",
       "    }\n",
       "\n",
       "    .dataframe thead th {\n",
       "        text-align: right;\n",
       "    }\n",
       "</style>\n",
       "<table border=\"1\" class=\"dataframe\">\n",
       "  <thead>\n",
       "    <tr style=\"text-align: right;\">\n",
       "      <th></th>\n",
       "      <th>Unnamed: 0</th>\n",
       "      <th>eng</th>\n",
       "      <th>fr</th>\n",
       "      <th>info</th>\n",
       "      <th>eng_clean</th>\n",
       "      <th>fr_clean</th>\n",
       "    </tr>\n",
       "  </thead>\n",
       "  <tbody>\n",
       "    <tr>\n",
       "      <th>172835</th>\n",
       "      <td>172835</td>\n",
       "      <td>All of us went to the theater to see a play.</td>\n",
       "      <td>Nous sommes tous allés au théâtre voir une pièce.</td>\n",
       "      <td>CC-BY 2.0 (France) Attribution: tatoeba.org #263325 (CK) &amp; #1270015 (sysko)</td>\n",
       "      <td>all of us went to the theater to see a play</td>\n",
       "      <td>nous sommes tous allés au théâtre voir une pièce</td>\n",
       "    </tr>\n",
       "    <tr>\n",
       "      <th>90048</th>\n",
       "      <td>90048</td>\n",
       "      <td>That isn't the best answer.</td>\n",
       "      <td>Ce n'est pas la meilleure réponse.</td>\n",
       "      <td>CC-BY 2.0 (France) Attribution: tatoeba.org #10007556 (CK) &amp; #10000044 (Julien_PDC)</td>\n",
       "      <td>that isn t the best answer</td>\n",
       "      <td>ce n est pas la meilleure réponse</td>\n",
       "    </tr>\n",
       "    <tr>\n",
       "      <th>103831</th>\n",
       "      <td>103831</td>\n",
       "      <td>I'm glad someone understands.</td>\n",
       "      <td>Je me réjouis que quelqu'un comprenne.</td>\n",
       "      <td>CC-BY 2.0 (France) Attribution: tatoeba.org #2543021 (CK) &amp; #2576416 (sacredceltic)</td>\n",
       "      <td>i m glad someone understands</td>\n",
       "      <td>je me réjouis que quelqu un comprenne</td>\n",
       "    </tr>\n",
       "  </tbody>\n",
       "</table>\n",
       "</div>"
      ],
      "text/plain": [
       "       Unnamed: 0                                           eng  \\\n",
       "172835     172835  All of us went to the theater to see a play.   \n",
       "90048       90048                   That isn't the best answer.   \n",
       "103831     103831                 I'm glad someone understands.   \n",
       "\n",
       "                                                       fr  \\\n",
       "172835  Nous sommes tous allés au théâtre voir une pièce.   \n",
       "90048                  Ce n'est pas la meilleure réponse.   \n",
       "103831             Je me réjouis que quelqu'un comprenne.   \n",
       "\n",
       "                                                                                       info  \\\n",
       "172835          CC-BY 2.0 (France) Attribution: tatoeba.org #263325 (CK) & #1270015 (sysko)   \n",
       "90048   CC-BY 2.0 (France) Attribution: tatoeba.org #10007556 (CK) & #10000044 (Julien_PDC)   \n",
       "103831  CC-BY 2.0 (France) Attribution: tatoeba.org #2543021 (CK) & #2576416 (sacredceltic)   \n",
       "\n",
       "                                           eng_clean  \\\n",
       "172835  all of us went to the theater to see a play    \n",
       "90048                    that isn t the best answer    \n",
       "103831                 i m glad someone understands    \n",
       "\n",
       "                                                 fr_clean  \n",
       "172835  nous sommes tous allés au théâtre voir une pièce   \n",
       "90048                  ce n est pas la meilleure réponse   \n",
       "103831             je me réjouis que quelqu un comprenne   "
      ]
     },
     "execution_count": 5,
     "metadata": {},
     "output_type": "execute_result"
    }
   ],
   "source": [
    "df.sample(3)"
   ]
  },
  {
   "cell_type": "code",
   "execution_count": 6,
   "id": "a6020161",
   "metadata": {},
   "outputs": [],
   "source": [
    "df['eng_len'] = df['eng_clean'].str.count(' ') + 1\n",
    "df['fr_len'] = df['fr_clean'].str.count(' ') + 1"
   ]
  },
  {
   "cell_type": "markdown",
   "id": "f65cc751",
   "metadata": {},
   "source": [
    "### Maxymalna dlugosc zdania 10 słów"
   ]
  },
  {
   "cell_type": "code",
   "execution_count": 7,
   "id": "a8261756",
   "metadata": {},
   "outputs": [],
   "source": [
    "df = df.drop(df[df.eng_len > 10].index)\n",
    "df = df.drop(df[df.fr_len > 10].index)\n"
   ]
  },
  {
   "cell_type": "code",
   "execution_count": 8,
   "id": "d54ade2e",
   "metadata": {},
   "outputs": [
    {
     "data": {
      "text/html": [
       "<div>\n",
       "<style scoped>\n",
       "    .dataframe tbody tr th:only-of-type {\n",
       "        vertical-align: middle;\n",
       "    }\n",
       "\n",
       "    .dataframe tbody tr th {\n",
       "        vertical-align: top;\n",
       "    }\n",
       "\n",
       "    .dataframe thead th {\n",
       "        text-align: right;\n",
       "    }\n",
       "</style>\n",
       "<table border=\"1\" class=\"dataframe\">\n",
       "  <thead>\n",
       "    <tr style=\"text-align: right;\">\n",
       "      <th></th>\n",
       "      <th>Unnamed: 0</th>\n",
       "      <th>eng</th>\n",
       "      <th>fr</th>\n",
       "      <th>info</th>\n",
       "      <th>eng_clean</th>\n",
       "      <th>fr_clean</th>\n",
       "      <th>eng_len</th>\n",
       "      <th>fr_len</th>\n",
       "    </tr>\n",
       "  </thead>\n",
       "  <tbody>\n",
       "    <tr>\n",
       "      <th>65350</th>\n",
       "      <td>65350</td>\n",
       "      <td>I'm sure you'll succeed.</td>\n",
       "      <td>Je suis certaine que tu réussiras.</td>\n",
       "      <td>CC-BY 2.0 (France) Attribution: tatoeba.org #2545887 (CK) &amp; #10501129 (felix63)</td>\n",
       "      <td>i m sure you ll succeed</td>\n",
       "      <td>je suis certaine que tu réussiras</td>\n",
       "      <td>7</td>\n",
       "      <td>7</td>\n",
       "    </tr>\n",
       "  </tbody>\n",
       "</table>\n",
       "</div>"
      ],
      "text/plain": [
       "      Unnamed: 0                       eng  \\\n",
       "65350      65350  I'm sure you'll succeed.   \n",
       "\n",
       "                                       fr  \\\n",
       "65350  Je suis certaine que tu réussiras.   \n",
       "\n",
       "                                                                                  info  \\\n",
       "65350  CC-BY 2.0 (France) Attribution: tatoeba.org #2545887 (CK) & #10501129 (felix63)   \n",
       "\n",
       "                      eng_clean                            fr_clean  eng_len  \\\n",
       "65350  i m sure you ll succeed   je suis certaine que tu réussiras         7   \n",
       "\n",
       "       fr_len  \n",
       "65350       7  "
      ]
     },
     "execution_count": 8,
     "metadata": {},
     "output_type": "execute_result"
    }
   ],
   "source": [
    "df.sample()"
   ]
  },
  {
   "cell_type": "code",
   "execution_count": 9,
   "id": "70188315",
   "metadata": {},
   "outputs": [
    {
     "data": {
      "text/plain": [
       "(155018, 8)"
      ]
     },
     "execution_count": 9,
     "metadata": {},
     "output_type": "execute_result"
    }
   ],
   "source": [
    "df.shape"
   ]
  },
  {
   "cell_type": "code",
   "execution_count": 10,
   "id": "7db19616",
   "metadata": {},
   "outputs": [],
   "source": [
    " from sklearn.utils import shuffle\n",
    "df = shuffle(df)"
   ]
  },
  {
   "cell_type": "code",
   "execution_count": 11,
   "id": "f3629c38",
   "metadata": {},
   "outputs": [],
   "source": [
    "from sklearn.model_selection import train_test_split\n",
    "df_train, df_test = train_test_split(df,  test_size=0.1, random_state=42)\n",
    "df_val, df_test = train_test_split(df_test,  test_size=0.5, random_state=42)"
   ]
  },
  {
   "cell_type": "code",
   "execution_count": 12,
   "id": "0ec1f130",
   "metadata": {},
   "outputs": [],
   "source": [
    "eng = df['eng_clean']\n",
    "fr= df['fr_clean']"
   ]
  },
  {
   "cell_type": "code",
   "execution_count": 13,
   "id": "4e1364f7",
   "metadata": {},
   "outputs": [],
   "source": [
    "eng_train = df_train['eng_clean']\n",
    "eng_val = df_val['eng_clean']\n",
    "eng_test = df_test['eng_clean']\n",
    "fr_train= df_train['fr_clean']\n",
    "fr_val= df_val['fr_clean']\n",
    "fr_test= df_test['fr_clean']"
   ]
  },
  {
   "cell_type": "code",
   "execution_count": 14,
   "id": "780e6575",
   "metadata": {},
   "outputs": [],
   "source": [
    "tokenizer_eng = Tokenizer()\n",
    "tokenizer_fr = Tokenizer()\n",
    "tokenizer_eng.fit_on_texts(eng)\n",
    "tokenizer_fr.fit_on_texts(fr)"
   ]
  },
  {
   "cell_type": "code",
   "execution_count": 15,
   "id": "e0697276",
   "metadata": {},
   "outputs": [],
   "source": [
    "eng_vocab_size = len(tokenizer_eng.word_index) + 1\n",
    "fr_vocab_size = len(tokenizer_fr.word_index) + 1"
   ]
  },
  {
   "cell_type": "code",
   "execution_count": 16,
   "id": "088bfe3b",
   "metadata": {},
   "outputs": [
    {
     "data": {
      "text/plain": [
       "12730"
      ]
     },
     "execution_count": 16,
     "metadata": {},
     "output_type": "execute_result"
    }
   ],
   "source": [
    "eng_vocab_size"
   ]
  },
  {
   "cell_type": "code",
   "execution_count": 17,
   "id": "610ef4d7",
   "metadata": {},
   "outputs": [],
   "source": [
    "def encode_sequences(tokenizer, length, lines):\n",
    "    seq = tokenizer.texts_to_sequences(lines)\n",
    "    seq = pad_sequences(seq, maxlen=length, padding='post')\n",
    "    return seq"
   ]
  },
  {
   "cell_type": "code",
   "execution_count": 18,
   "id": "3cc5832f",
   "metadata": {},
   "outputs": [
    {
     "data": {
      "text/plain": [
       "10"
      ]
     },
     "execution_count": 18,
     "metadata": {},
     "output_type": "execute_result"
    }
   ],
   "source": [
    "eng_max = max(len(text.split(' ')) for text in eng)\n",
    "eng_max"
   ]
  },
  {
   "cell_type": "code",
   "execution_count": 19,
   "id": "0361e6f0",
   "metadata": {},
   "outputs": [],
   "source": [
    "eng_train = encode_sequences(tokenizer_eng, 10, eng_train)\n",
    "eng_val = encode_sequences(tokenizer_eng, 10, eng_val)\n",
    "eng_test = encode_sequences(tokenizer_eng, 10, eng_test)\n",
    "\n",
    "fr_train = encode_sequences(tokenizer_fr, 10, fr_train)\n",
    "fr_val = encode_sequences(tokenizer_fr, 10, fr_val)\n",
    "fr_test = encode_sequences(tokenizer_fr, 10, fr_test)"
   ]
  },
  {
   "cell_type": "code",
   "execution_count": 20,
   "id": "db3cb29a",
   "metadata": {},
   "outputs": [],
   "source": [
    "def create_model(in_vocab, out_vocab, in_timesteps, out_timesteps, units):\n",
    "    model = Sequential()\n",
    "    model.add(Embedding(in_vocab, units, input_length=in_timesteps, mask_zero=True))\n",
    "    model.add(LSTM(units))\n",
    "    model.add(RepeatVector(out_timesteps))\n",
    "    model.add(LSTM(units))\n",
    "    model.add(RepeatVector(out_timesteps))\n",
    "    model.add(LSTM(units, return_sequences=True))\n",
    "    model.add(Dense(1024, activation='relu'))\n",
    "    model.add(Dense(512, activation='relu'))\n",
    "    model.add(Dense(out_vocab, activation='softmax'))\n",
    "    return model"
   ]
  },
  {
   "cell_type": "code",
   "execution_count": 24,
   "id": "bce50eae",
   "metadata": {},
   "outputs": [
    {
     "name": "stderr",
     "output_type": "stream",
     "text": [
      "C:\\Users\\Weronika Gramacka\\anaconda3\\envs\\python\\lib\\site-packages\\keras\\optimizers\\optimizer_v2\\adam.py:114: UserWarning: The `lr` argument is deprecated, use `learning_rate` instead.\n",
      "  super().__init__(name, **kwargs)\n"
     ]
    }
   ],
   "source": [
    "tf.keras.backend.clear_session()\n",
    "model = create_model(eng_vocab_size, fr_vocab_size, 10, 10, 1024)\n",
    "opt = optimizers.Adam(lr=0.001)\n",
    "model.compile(optimizer=opt, loss='sparse_categorical_crossentropy')"
   ]
  },
  {
   "cell_type": "code",
   "execution_count": 25,
   "id": "7cd1a882",
   "metadata": {},
   "outputs": [
    {
     "name": "stdout",
     "output_type": "stream",
     "text": [
      "Model: \"sequential\"\n",
      "_________________________________________________________________\n",
      " Layer (type)                Output Shape              Param #   \n",
      "=================================================================\n",
      " embedding (Embedding)       (None, 10, 1024)          13035520  \n",
      "                                                                 \n",
      " lstm (LSTM)                 (None, 1024)              8392704   \n",
      "                                                                 \n",
      " repeat_vector (RepeatVector  (None, 10, 1024)         0         \n",
      " )                                                               \n",
      "                                                                 \n",
      " lstm_1 (LSTM)               (None, 512)               3147776   \n",
      "                                                                 \n",
      " repeat_vector_1 (RepeatVect  (None, 10, 512)          0         \n",
      " or)                                                             \n",
      "                                                                 \n",
      " lstm_2 (LSTM)               (None, 10, 256)           787456    \n",
      "                                                                 \n",
      " dense (Dense)               (None, 10, 1024)          263168    \n",
      "                                                                 \n",
      " dense_1 (Dense)             (None, 10, 512)           524800    \n",
      "                                                                 \n",
      " dense_2 (Dense)             (None, 10, 24918)         12782934  \n",
      "                                                                 \n",
      "=================================================================\n",
      "Total params: 38,934,358\n",
      "Trainable params: 38,934,358\n",
      "Non-trainable params: 0\n",
      "_________________________________________________________________\n"
     ]
    }
   ],
   "source": [
    "model.summary()"
   ]
  },
  {
   "cell_type": "code",
   "execution_count": 26,
   "id": "9c0680d0",
   "metadata": {},
   "outputs": [
    {
     "name": "stdout",
     "output_type": "stream",
     "text": [
      "Epoch 1/30\n",
      "545/545 [==============================] - ETA: 0s - loss: 4.0429\n",
      "Epoch 1: val_loss improved from inf to 3.82823, saving model to model_GUM_2_2.h1\n"
     ]
    },
    {
     "name": "stderr",
     "output_type": "stream",
     "text": [
      "WARNING:absl:Found untraced functions such as lstm_cell_layer_call_fn, lstm_cell_layer_call_and_return_conditional_losses, lstm_cell_1_layer_call_fn, lstm_cell_1_layer_call_and_return_conditional_losses, lstm_cell_2_layer_call_fn while saving (showing 5 of 6). These functions will not be directly callable after loading.\n"
     ]
    },
    {
     "name": "stdout",
     "output_type": "stream",
     "text": [
      "INFO:tensorflow:Assets written to: model_GUM_2_2.h1\\assets\n"
     ]
    },
    {
     "name": "stderr",
     "output_type": "stream",
     "text": [
      "INFO:tensorflow:Assets written to: model_GUM_2_2.h1\\assets\n"
     ]
    },
    {
     "name": "stdout",
     "output_type": "stream",
     "text": [
      "545/545 [==============================] - 148s 263ms/step - loss: 4.0429 - val_loss: 3.8282\n",
      "Epoch 2/30\n",
      "545/545 [==============================] - ETA: 0s - loss: 3.5221\n",
      "Epoch 2: val_loss improved from 3.82823 to 3.31984, saving model to model_GUM_2_2.h1\n"
     ]
    },
    {
     "name": "stderr",
     "output_type": "stream",
     "text": [
      "WARNING:absl:Found untraced functions such as lstm_cell_layer_call_fn, lstm_cell_layer_call_and_return_conditional_losses, lstm_cell_1_layer_call_fn, lstm_cell_1_layer_call_and_return_conditional_losses, lstm_cell_2_layer_call_fn while saving (showing 5 of 6). These functions will not be directly callable after loading.\n"
     ]
    },
    {
     "name": "stdout",
     "output_type": "stream",
     "text": [
      "INFO:tensorflow:Assets written to: model_GUM_2_2.h1\\assets\n"
     ]
    },
    {
     "name": "stderr",
     "output_type": "stream",
     "text": [
      "INFO:tensorflow:Assets written to: model_GUM_2_2.h1\\assets\n"
     ]
    },
    {
     "name": "stdout",
     "output_type": "stream",
     "text": [
      "545/545 [==============================] - 143s 261ms/step - loss: 3.5221 - val_loss: 3.3198\n",
      "Epoch 3/30\n",
      "545/545 [==============================] - ETA: 0s - loss: 3.0863\n",
      "Epoch 3: val_loss improved from 3.31984 to 3.00442, saving model to model_GUM_2_2.h1\n"
     ]
    },
    {
     "name": "stderr",
     "output_type": "stream",
     "text": [
      "WARNING:absl:Found untraced functions such as lstm_cell_layer_call_fn, lstm_cell_layer_call_and_return_conditional_losses, lstm_cell_1_layer_call_fn, lstm_cell_1_layer_call_and_return_conditional_losses, lstm_cell_2_layer_call_fn while saving (showing 5 of 6). These functions will not be directly callable after loading.\n"
     ]
    },
    {
     "name": "stdout",
     "output_type": "stream",
     "text": [
      "INFO:tensorflow:Assets written to: model_GUM_2_2.h1\\assets\n"
     ]
    },
    {
     "name": "stderr",
     "output_type": "stream",
     "text": [
      "INFO:tensorflow:Assets written to: model_GUM_2_2.h1\\assets\n"
     ]
    },
    {
     "name": "stdout",
     "output_type": "stream",
     "text": [
      "545/545 [==============================] - 143s 262ms/step - loss: 3.0863 - val_loss: 3.0044\n",
      "Epoch 4/30\n",
      "545/545 [==============================] - ETA: 0s - loss: 2.7801\n",
      "Epoch 4: val_loss improved from 3.00442 to 2.77893, saving model to model_GUM_2_2.h1\n"
     ]
    },
    {
     "name": "stderr",
     "output_type": "stream",
     "text": [
      "WARNING:absl:Found untraced functions such as lstm_cell_layer_call_fn, lstm_cell_layer_call_and_return_conditional_losses, lstm_cell_1_layer_call_fn, lstm_cell_1_layer_call_and_return_conditional_losses, lstm_cell_2_layer_call_fn while saving (showing 5 of 6). These functions will not be directly callable after loading.\n"
     ]
    },
    {
     "name": "stdout",
     "output_type": "stream",
     "text": [
      "INFO:tensorflow:Assets written to: model_GUM_2_2.h1\\assets\n"
     ]
    },
    {
     "name": "stderr",
     "output_type": "stream",
     "text": [
      "INFO:tensorflow:Assets written to: model_GUM_2_2.h1\\assets\n"
     ]
    },
    {
     "name": "stdout",
     "output_type": "stream",
     "text": [
      "545/545 [==============================] - 143s 262ms/step - loss: 2.7801 - val_loss: 2.7789\n",
      "Epoch 5/30\n",
      "545/545 [==============================] - ETA: 0s - loss: 2.5252\n",
      "Epoch 5: val_loss improved from 2.77893 to 2.61537, saving model to model_GUM_2_2.h1\n"
     ]
    },
    {
     "name": "stderr",
     "output_type": "stream",
     "text": [
      "WARNING:absl:Found untraced functions such as lstm_cell_layer_call_fn, lstm_cell_layer_call_and_return_conditional_losses, lstm_cell_1_layer_call_fn, lstm_cell_1_layer_call_and_return_conditional_losses, lstm_cell_2_layer_call_fn while saving (showing 5 of 6). These functions will not be directly callable after loading.\n"
     ]
    },
    {
     "name": "stdout",
     "output_type": "stream",
     "text": [
      "INFO:tensorflow:Assets written to: model_GUM_2_2.h1\\assets\n"
     ]
    },
    {
     "name": "stderr",
     "output_type": "stream",
     "text": [
      "INFO:tensorflow:Assets written to: model_GUM_2_2.h1\\assets\n"
     ]
    },
    {
     "name": "stdout",
     "output_type": "stream",
     "text": [
      "545/545 [==============================] - 143s 262ms/step - loss: 2.5252 - val_loss: 2.6154\n",
      "Epoch 6/30\n",
      "545/545 [==============================] - ETA: 0s - loss: 2.2924\n",
      "Epoch 6: val_loss improved from 2.61537 to 2.44576, saving model to model_GUM_2_2.h1\n"
     ]
    },
    {
     "name": "stderr",
     "output_type": "stream",
     "text": [
      "WARNING:absl:Found untraced functions such as lstm_cell_layer_call_fn, lstm_cell_layer_call_and_return_conditional_losses, lstm_cell_1_layer_call_fn, lstm_cell_1_layer_call_and_return_conditional_losses, lstm_cell_2_layer_call_fn while saving (showing 5 of 6). These functions will not be directly callable after loading.\n"
     ]
    },
    {
     "name": "stdout",
     "output_type": "stream",
     "text": [
      "INFO:tensorflow:Assets written to: model_GUM_2_2.h1\\assets\n"
     ]
    },
    {
     "name": "stderr",
     "output_type": "stream",
     "text": [
      "INFO:tensorflow:Assets written to: model_GUM_2_2.h1\\assets\n"
     ]
    },
    {
     "name": "stdout",
     "output_type": "stream",
     "text": [
      "545/545 [==============================] - 144s 264ms/step - loss: 2.2924 - val_loss: 2.4458\n",
      "Epoch 7/30\n",
      "545/545 [==============================] - ETA: 0s - loss: 2.1210\n",
      "Epoch 7: val_loss improved from 2.44576 to 2.35058, saving model to model_GUM_2_2.h1\n"
     ]
    },
    {
     "name": "stderr",
     "output_type": "stream",
     "text": [
      "WARNING:absl:Found untraced functions such as lstm_cell_layer_call_fn, lstm_cell_layer_call_and_return_conditional_losses, lstm_cell_1_layer_call_fn, lstm_cell_1_layer_call_and_return_conditional_losses, lstm_cell_2_layer_call_fn while saving (showing 5 of 6). These functions will not be directly callable after loading.\n"
     ]
    },
    {
     "name": "stdout",
     "output_type": "stream",
     "text": [
      "INFO:tensorflow:Assets written to: model_GUM_2_2.h1\\assets\n"
     ]
    },
    {
     "name": "stderr",
     "output_type": "stream",
     "text": [
      "INFO:tensorflow:Assets written to: model_GUM_2_2.h1\\assets\n"
     ]
    },
    {
     "name": "stdout",
     "output_type": "stream",
     "text": [
      "545/545 [==============================] - 143s 262ms/step - loss: 2.1210 - val_loss: 2.3506\n",
      "Epoch 8/30\n",
      "545/545 [==============================] - ETA: 0s - loss: 1.9241\n",
      "Epoch 8: val_loss improved from 2.35058 to 2.27491, saving model to model_GUM_2_2.h1\n"
     ]
    },
    {
     "name": "stderr",
     "output_type": "stream",
     "text": [
      "WARNING:absl:Found untraced functions such as lstm_cell_layer_call_fn, lstm_cell_layer_call_and_return_conditional_losses, lstm_cell_1_layer_call_fn, lstm_cell_1_layer_call_and_return_conditional_losses, lstm_cell_2_layer_call_fn while saving (showing 5 of 6). These functions will not be directly callable after loading.\n"
     ]
    },
    {
     "name": "stdout",
     "output_type": "stream",
     "text": [
      "INFO:tensorflow:Assets written to: model_GUM_2_2.h1\\assets\n"
     ]
    },
    {
     "name": "stderr",
     "output_type": "stream",
     "text": [
      "INFO:tensorflow:Assets written to: model_GUM_2_2.h1\\assets\n"
     ]
    },
    {
     "name": "stdout",
     "output_type": "stream",
     "text": [
      "545/545 [==============================] - 144s 264ms/step - loss: 1.9241 - val_loss: 2.2749\n",
      "Epoch 9/30\n",
      "545/545 [==============================] - ETA: 0s - loss: 1.7844\n",
      "Epoch 9: val_loss improved from 2.27491 to 2.22771, saving model to model_GUM_2_2.h1\n"
     ]
    },
    {
     "name": "stderr",
     "output_type": "stream",
     "text": [
      "WARNING:absl:Found untraced functions such as lstm_cell_layer_call_fn, lstm_cell_layer_call_and_return_conditional_losses, lstm_cell_1_layer_call_fn, lstm_cell_1_layer_call_and_return_conditional_losses, lstm_cell_2_layer_call_fn while saving (showing 5 of 6). These functions will not be directly callable after loading.\n"
     ]
    },
    {
     "name": "stdout",
     "output_type": "stream",
     "text": [
      "INFO:tensorflow:Assets written to: model_GUM_2_2.h1\\assets\n"
     ]
    },
    {
     "name": "stderr",
     "output_type": "stream",
     "text": [
      "INFO:tensorflow:Assets written to: model_GUM_2_2.h1\\assets\n"
     ]
    },
    {
     "name": "stdout",
     "output_type": "stream",
     "text": [
      "545/545 [==============================] - 143s 263ms/step - loss: 1.7844 - val_loss: 2.2277\n",
      "Epoch 10/30\n",
      "545/545 [==============================] - ETA: 0s - loss: 1.7842\n",
      "Epoch 10: val_loss did not improve from 2.22771\n",
      "545/545 [==============================] - 123s 226ms/step - loss: 1.7842 - val_loss: 2.2525\n",
      "Epoch 11/30\n",
      "545/545 [==============================] - ETA: 0s - loss: 1.6317\n",
      "Epoch 11: val_loss improved from 2.22771 to 2.19018, saving model to model_GUM_2_2.h1\n"
     ]
    },
    {
     "name": "stderr",
     "output_type": "stream",
     "text": [
      "WARNING:absl:Found untraced functions such as lstm_cell_layer_call_fn, lstm_cell_layer_call_and_return_conditional_losses, lstm_cell_1_layer_call_fn, lstm_cell_1_layer_call_and_return_conditional_losses, lstm_cell_2_layer_call_fn while saving (showing 5 of 6). These functions will not be directly callable after loading.\n"
     ]
    },
    {
     "name": "stdout",
     "output_type": "stream",
     "text": [
      "INFO:tensorflow:Assets written to: model_GUM_2_2.h1\\assets\n"
     ]
    },
    {
     "name": "stderr",
     "output_type": "stream",
     "text": [
      "INFO:tensorflow:Assets written to: model_GUM_2_2.h1\\assets\n"
     ]
    },
    {
     "name": "stdout",
     "output_type": "stream",
     "text": [
      "545/545 [==============================] - 143s 262ms/step - loss: 1.6317 - val_loss: 2.1902\n",
      "Epoch 12/30\n",
      "545/545 [==============================] - ETA: 0s - loss: 1.4946\n",
      "Epoch 12: val_loss improved from 2.19018 to 2.15624, saving model to model_GUM_2_2.h1\n"
     ]
    },
    {
     "name": "stderr",
     "output_type": "stream",
     "text": [
      "WARNING:absl:Found untraced functions such as lstm_cell_layer_call_fn, lstm_cell_layer_call_and_return_conditional_losses, lstm_cell_1_layer_call_fn, lstm_cell_1_layer_call_and_return_conditional_losses, lstm_cell_2_layer_call_fn while saving (showing 5 of 6). These functions will not be directly callable after loading.\n"
     ]
    },
    {
     "name": "stdout",
     "output_type": "stream",
     "text": [
      "INFO:tensorflow:Assets written to: model_GUM_2_2.h1\\assets\n"
     ]
    },
    {
     "name": "stderr",
     "output_type": "stream",
     "text": [
      "INFO:tensorflow:Assets written to: model_GUM_2_2.h1\\assets\n"
     ]
    },
    {
     "name": "stdout",
     "output_type": "stream",
     "text": [
      "545/545 [==============================] - 143s 262ms/step - loss: 1.4946 - val_loss: 2.1562\n",
      "Epoch 13/30\n",
      "545/545 [==============================] - ETA: 0s - loss: 1.3997\n",
      "Epoch 13: val_loss improved from 2.15624 to 2.12991, saving model to model_GUM_2_2.h1\n"
     ]
    },
    {
     "name": "stderr",
     "output_type": "stream",
     "text": [
      "WARNING:absl:Found untraced functions such as lstm_cell_layer_call_fn, lstm_cell_layer_call_and_return_conditional_losses, lstm_cell_1_layer_call_fn, lstm_cell_1_layer_call_and_return_conditional_losses, lstm_cell_2_layer_call_fn while saving (showing 5 of 6). These functions will not be directly callable after loading.\n"
     ]
    },
    {
     "name": "stdout",
     "output_type": "stream",
     "text": [
      "INFO:tensorflow:Assets written to: model_GUM_2_2.h1\\assets\n"
     ]
    },
    {
     "name": "stderr",
     "output_type": "stream",
     "text": [
      "INFO:tensorflow:Assets written to: model_GUM_2_2.h1\\assets\n"
     ]
    },
    {
     "name": "stdout",
     "output_type": "stream",
     "text": [
      "545/545 [==============================] - 143s 262ms/step - loss: 1.3997 - val_loss: 2.1299\n",
      "Epoch 14/30\n",
      "545/545 [==============================] - ETA: 0s - loss: 1.3213\n",
      "Epoch 14: val_loss did not improve from 2.12991\n",
      "545/545 [==============================] - 123s 226ms/step - loss: 1.3213 - val_loss: 2.1346\n",
      "Epoch 15/30\n",
      "545/545 [==============================] - ETA: 0s - loss: 1.2511\n",
      "Epoch 15: val_loss did not improve from 2.12991\n",
      "545/545 [==============================] - 124s 228ms/step - loss: 1.2511 - val_loss: 2.1347\n",
      "Epoch 16/30\n",
      "545/545 [==============================] - ETA: 0s - loss: 1.1923\n",
      "Epoch 16: val_loss did not improve from 2.12991\n",
      "545/545 [==============================] - 124s 228ms/step - loss: 1.1923 - val_loss: 2.1388\n",
      "Epoch 17/30\n",
      "545/545 [==============================] - ETA: 0s - loss: 1.1342\n",
      "Epoch 17: val_loss did not improve from 2.12991\n",
      "545/545 [==============================] - 124s 228ms/step - loss: 1.1342 - val_loss: 2.1415\n",
      "Epoch 18/30\n",
      "545/545 [==============================] - ETA: 0s - loss: 1.0836\n",
      "Epoch 18: val_loss did not improve from 2.12991\n",
      "545/545 [==============================] - 124s 228ms/step - loss: 1.0836 - val_loss: 2.1491\n",
      "Epoch 19/30\n",
      "545/545 [==============================] - ETA: 0s - loss: 1.0325\n",
      "Epoch 19: val_loss did not improve from 2.12991\n",
      "545/545 [==============================] - 124s 228ms/step - loss: 1.0325 - val_loss: 2.1358\n",
      "Epoch 20/30\n",
      "545/545 [==============================] - ETA: 0s - loss: 0.9971\n",
      "Epoch 20: val_loss did not improve from 2.12991\n",
      "545/545 [==============================] - 124s 228ms/step - loss: 0.9971 - val_loss: 2.1728\n",
      "Epoch 21/30\n",
      "545/545 [==============================] - ETA: 0s - loss: 0.9474\n",
      "Epoch 21: val_loss did not improve from 2.12991\n",
      "545/545 [==============================] - 125s 230ms/step - loss: 0.9474 - val_loss: 2.1924\n",
      "Epoch 22/30\n",
      "545/545 [==============================] - ETA: 0s - loss: 0.9067\n",
      "Epoch 22: val_loss did not improve from 2.12991\n",
      "545/545 [==============================] - 125s 230ms/step - loss: 0.9067 - val_loss: 2.1900\n",
      "Epoch 23/30\n",
      "545/545 [==============================] - ETA: 0s - loss: 0.8671\n",
      "Epoch 23: val_loss did not improve from 2.12991\n",
      "545/545 [==============================] - 130s 239ms/step - loss: 0.8671 - val_loss: 2.1913\n",
      "Epoch 24/30\n",
      "545/545 [==============================] - ETA: 0s - loss: 0.8302\n",
      "Epoch 24: val_loss did not improve from 2.12991\n",
      "545/545 [==============================] - 131s 241ms/step - loss: 0.8302 - val_loss: 2.2200\n",
      "Epoch 25/30\n",
      "545/545 [==============================] - ETA: 0s - loss: 0.7947\n",
      "Epoch 25: val_loss did not improve from 2.12991\n",
      "545/545 [==============================] - 126s 232ms/step - loss: 0.7947 - val_loss: 2.2482\n",
      "Epoch 26/30\n",
      "545/545 [==============================] - ETA: 0s - loss: 0.7605\n",
      "Epoch 26: val_loss did not improve from 2.12991\n",
      "545/545 [==============================] - 125s 229ms/step - loss: 0.7605 - val_loss: 2.2423\n",
      "Epoch 27/30\n",
      "545/545 [==============================] - ETA: 0s - loss: 0.7295\n",
      "Epoch 27: val_loss did not improve from 2.12991\n",
      "545/545 [==============================] - 128s 236ms/step - loss: 0.7295 - val_loss: 2.3249\n",
      "Epoch 28/30\n",
      "545/545 [==============================] - ETA: 0s - loss: 0.6978\n",
      "Epoch 28: val_loss did not improve from 2.12991\n",
      "545/545 [==============================] - 126s 231ms/step - loss: 0.6978 - val_loss: 2.3119\n",
      "Epoch 29/30\n",
      "545/545 [==============================] - ETA: 0s - loss: 0.6731\n",
      "Epoch 29: val_loss did not improve from 2.12991\n",
      "545/545 [==============================] - 125s 230ms/step - loss: 0.6731 - val_loss: 2.3810\n",
      "Epoch 30/30\n",
      "545/545 [==============================] - ETA: 0s - loss: 0.6459\n",
      "Epoch 30: val_loss did not improve from 2.12991\n",
      "545/545 [==============================] - 125s 230ms/step - loss: 0.6459 - val_loss: 2.3986\n"
     ]
    }
   ],
   "source": [
    "filename = 'model_GUM_2_2.h1'\n",
    "checkpoint = ModelCheckpoint(filename, monitor='val_loss', verbose=1, save_best_only=True, mode='min')\n",
    "history = model.fit(eng_train, fr_train.reshape(fr_train.shape[0], fr_train.shape[1], 1), epochs=30, batch_size=256, validation_data=(eng_val, fr_val.reshape(fr_val.shape[0], fr_val.shape[1], 1)),   callbacks=[checkpoint], verbose=1)"
   ]
  },
  {
   "cell_type": "code",
   "execution_count": 27,
   "id": "693c7a5f",
   "metadata": {},
   "outputs": [
    {
     "data": {
      "image/png": "[encoded data removed]",
      "text/plain": [
       "<Figure size 640x480 with 1 Axes>"
      ]
     },
     "metadata": {},
     "output_type": "display_data"
    }
   ],
   "source": [
    "import matplotlib.pyplot as plt\n",
    "plt.plot(history.history['loss'])\n",
    "plt.plot(history.history['val_loss'])\n",
    "plt.legend(['train','validation'])\n",
    "plt.show()"
   ]
  },
  {
   "cell_type": "code",
   "execution_count": 28,
   "id": "d9de72da",
   "metadata": {},
   "outputs": [],
   "source": [
    "model = load_model('model_GUM_2_2.h1')"
   ]
  },
  {
   "cell_type": "code",
   "execution_count": 29,
   "id": "3de2e3ce",
   "metadata": {},
   "outputs": [],
   "source": [
    "def word_for_id(integer, tokenizer):\n",
    "    for word, index in tokenizer.word_index.items():\n",
    "        if index == integer:\n",
    "            return word\n",
    "    return None"
   ]
  },
  {
   "cell_type": "code",
   "execution_count": 30,
   "id": "5954a681",
   "metadata": {},
   "outputs": [],
   "source": [
    "def predict_sequence(model, tokenizer, source):\n",
    "    prediction = model.predict(source, verbose=0)[0]\n",
    "    integers = [argmax(vector) for vector in prediction]\n",
    "    target = list()\n",
    "    for i in integers:\n",
    "        word = word_for_id(i, tokenizer)\n",
    "        if word is None:\n",
    "            break\n",
    "        target.append(word)\n",
    "    return ' '.join(target)"
   ]
  },
  {
   "cell_type": "code",
   "execution_count": 31,
   "id": "ef1ffeed",
   "metadata": {},
   "outputs": [],
   "source": [
    "def evaluate_model(model, tokenizer, test, test_t):\n",
    "    actual, predicted, bleu = list(), list(), list()\n",
    "    for i, x in enumerate(test):\n",
    "        x = x.reshape((1, x.shape[0]))\n",
    "        translation = predict_sequence(model, tokenizer, x)\n",
    "        predicted.append(translation.split())\n",
    "    return predicted"
   ]
  },
  {
   "cell_type": "code",
   "execution_count": 32,
   "id": "6901ded3",
   "metadata": {},
   "outputs": [
    {
     "data": {
      "text/plain": [
       "array([    4,   339,   161,    17,     9,     1,    20, 12164,     0,\n",
       "           0])"
      ]
     },
     "execution_count": 32,
     "metadata": {},
     "output_type": "execute_result"
    }
   ],
   "source": [
    "eng_test[0]"
   ]
  },
  {
   "cell_type": "code",
   "execution_count": 33,
   "id": "483e8ee0",
   "metadata": {},
   "outputs": [
    {
     "data": {
      "text/html": [
       "<div>\n",
       "<style scoped>\n",
       "    .dataframe tbody tr th:only-of-type {\n",
       "        vertical-align: middle;\n",
       "    }\n",
       "\n",
       "    .dataframe tbody tr th {\n",
       "        vertical-align: top;\n",
       "    }\n",
       "\n",
       "    .dataframe thead th {\n",
       "        text-align: right;\n",
       "    }\n",
       "</style>\n",
       "<table border=\"1\" class=\"dataframe\">\n",
       "  <thead>\n",
       "    <tr style=\"text-align: right;\">\n",
       "      <th></th>\n",
       "      <th>Unnamed: 0</th>\n",
       "      <th>eng</th>\n",
       "      <th>fr</th>\n",
       "      <th>info</th>\n",
       "      <th>eng_clean</th>\n",
       "      <th>fr_clean</th>\n",
       "      <th>eng_len</th>\n",
       "      <th>fr_len</th>\n",
       "    </tr>\n",
       "  </thead>\n",
       "  <tbody>\n",
       "    <tr>\n",
       "      <th>163625</th>\n",
       "      <td>163625</td>\n",
       "      <td>The doctor told me that I was infertile.</td>\n",
       "      <td>Le docteur m'a appris que j'étais stérile.</td>\n",
       "      <td>CC-BY 2.0 (France) Attribution: tatoeba.org #10624837 (AlanF_US) &amp; #8608350 (Aiji)</td>\n",
       "      <td>the doctor told me that i was infertile</td>\n",
       "      <td>le docteur m a appris que j étais stérile</td>\n",
       "      <td>9</td>\n",
       "      <td>10</td>\n",
       "    </tr>\n",
       "    <tr>\n",
       "      <th>56766</th>\n",
       "      <td>56766</td>\n",
       "      <td>I hear someone singing.</td>\n",
       "      <td>J'entends quelqu'un qui chante.</td>\n",
       "      <td>CC-BY 2.0 (France) Attribution: tatoeba.org #5218768 (mailohilohi) &amp; #6000357 (PERCE_NEIGE)</td>\n",
       "      <td>i hear someone singing</td>\n",
       "      <td>j entends quelqu un qui chante</td>\n",
       "      <td>5</td>\n",
       "      <td>7</td>\n",
       "    </tr>\n",
       "    <tr>\n",
       "      <th>127042</th>\n",
       "      <td>127042</td>\n",
       "      <td>We ate sandwiches for breakfast.</td>\n",
       "      <td>Nous avons mangé des sandwichs pour le petit-déjeuner.</td>\n",
       "      <td>CC-BY 2.0 (France) Attribution: tatoeba.org #249073 (CK) &amp; #567102 (sacredceltic)</td>\n",
       "      <td>we ate sandwiches for breakfast</td>\n",
       "      <td>nous avons mangé des sandwichs pour le petit déjeuner</td>\n",
       "      <td>6</td>\n",
       "      <td>10</td>\n",
       "    </tr>\n",
       "    <tr>\n",
       "      <th>85372</th>\n",
       "      <td>85372</td>\n",
       "      <td>Both spellings are correct.</td>\n",
       "      <td>Les deux orthographes sont correctes.</td>\n",
       "      <td>CC-BY 2.0 (France) Attribution: tatoeba.org #547181 (darinmex) &amp; #548926 (sacredceltic)</td>\n",
       "      <td>both spellings are correct</td>\n",
       "      <td>les deux orthographes sont correctes</td>\n",
       "      <td>5</td>\n",
       "      <td>6</td>\n",
       "    </tr>\n",
       "    <tr>\n",
       "      <th>120014</th>\n",
       "      <td>120014</td>\n",
       "      <td>They're eating high on the hog.</td>\n",
       "      <td>Ils mènent grand train.</td>\n",
       "      <td>CC-BY 2.0 (France) Attribution: tatoeba.org #307703 (CM) &amp; #1176349 (sacredceltic)</td>\n",
       "      <td>they re eating high on the hog</td>\n",
       "      <td>ils mènent grand train</td>\n",
       "      <td>8</td>\n",
       "      <td>5</td>\n",
       "    </tr>\n",
       "  </tbody>\n",
       "</table>\n",
       "</div>"
      ],
      "text/plain": [
       "       Unnamed: 0                                       eng  \\\n",
       "163625     163625  The doctor told me that I was infertile.   \n",
       "56766       56766                   I hear someone singing.   \n",
       "127042     127042          We ate sandwiches for breakfast.   \n",
       "85372       85372               Both spellings are correct.   \n",
       "120014     120014           They're eating high on the hog.   \n",
       "\n",
       "                                                            fr  \\\n",
       "163625              Le docteur m'a appris que j'étais stérile.   \n",
       "56766                          J'entends quelqu'un qui chante.   \n",
       "127042  Nous avons mangé des sandwichs pour le petit-déjeuner.   \n",
       "85372                    Les deux orthographes sont correctes.   \n",
       "120014                                 Ils mènent grand train.   \n",
       "\n",
       "                                                                                               info  \\\n",
       "163625           CC-BY 2.0 (France) Attribution: tatoeba.org #10624837 (AlanF_US) & #8608350 (Aiji)   \n",
       "56766   CC-BY 2.0 (France) Attribution: tatoeba.org #5218768 (mailohilohi) & #6000357 (PERCE_NEIGE)   \n",
       "127042            CC-BY 2.0 (France) Attribution: tatoeba.org #249073 (CK) & #567102 (sacredceltic)   \n",
       "85372       CC-BY 2.0 (France) Attribution: tatoeba.org #547181 (darinmex) & #548926 (sacredceltic)   \n",
       "120014           CC-BY 2.0 (France) Attribution: tatoeba.org #307703 (CM) & #1176349 (sacredceltic)   \n",
       "\n",
       "                                       eng_clean  \\\n",
       "163625  the doctor told me that i was infertile    \n",
       "56766                    i hear someone singing    \n",
       "127042          we ate sandwiches for breakfast    \n",
       "85372                both spellings are correct    \n",
       "120014           they re eating high on the hog    \n",
       "\n",
       "                                                      fr_clean  eng_len  \\\n",
       "163625              le docteur m a appris que j étais stérile         9   \n",
       "56766                          j entends quelqu un qui chante         5   \n",
       "127042  nous avons mangé des sandwichs pour le petit déjeuner         6   \n",
       "85372                    les deux orthographes sont correctes         5   \n",
       "120014                                 ils mènent grand train         8   \n",
       "\n",
       "        fr_len  \n",
       "163625      10  \n",
       "56766        7  \n",
       "127042      10  \n",
       "85372        6  \n",
       "120014       5  "
      ]
     },
     "execution_count": 33,
     "metadata": {},
     "output_type": "execute_result"
    }
   ],
   "source": [
    "df_test.head(5)"
   ]
  },
  {
   "cell_type": "code",
   "execution_count": 34,
   "id": "38bd564c",
   "metadata": {
    "scrolled": true
   },
   "outputs": [],
   "source": [
    "preds = evaluate_model(model, tokenizer_fr, eng_test, fr_test)"
   ]
  },
  {
   "cell_type": "code",
   "execution_count": 35,
   "id": "369cafc3",
   "metadata": {},
   "outputs": [
    {
     "data": {
      "text/plain": [
       "list"
      ]
     },
     "execution_count": 35,
     "metadata": {},
     "output_type": "execute_result"
    }
   ],
   "source": [
    "type(preds[0])"
   ]
  },
  {
   "cell_type": "code",
   "execution_count": 54,
   "id": "51530e01",
   "metadata": {},
   "outputs": [],
   "source": [
    "def bleu_score(orginal, translated):\n",
    "    score = sentence_bleu([orginal], translated)\n",
    "    return score"
   ]
  },
  {
   "cell_type": "code",
   "execution_count": 55,
   "id": "e0251714",
   "metadata": {
    "scrolled": true
   },
   "outputs": [
    {
     "name": "stderr",
     "output_type": "stream",
     "text": [
      "C:\\Users\\Weronika Gramacka\\anaconda3\\envs\\python\\lib\\site-packages\\nltk\\translate\\bleu_score.py:552: UserWarning: \n",
      "The hypothesis contains 0 counts of 3-gram overlaps.\n",
      "Therefore the BLEU score evaluates to 0, independently of\n",
      "how many N-gram overlaps of lower order it contains.\n",
      "Consider using lower n-gram order or use SmoothingFunction()\n",
      "  warnings.warn(_msg)\n",
      "C:\\Users\\Weronika Gramacka\\anaconda3\\envs\\python\\lib\\site-packages\\nltk\\translate\\bleu_score.py:552: UserWarning: \n",
      "The hypothesis contains 0 counts of 4-gram overlaps.\n",
      "Therefore the BLEU score evaluates to 0, independently of\n",
      "how many N-gram overlaps of lower order it contains.\n",
      "Consider using lower n-gram order or use SmoothingFunction()\n",
      "  warnings.warn(_msg)\n",
      "C:\\Users\\Weronika Gramacka\\anaconda3\\envs\\python\\lib\\site-packages\\nltk\\translate\\bleu_score.py:552: UserWarning: \n",
      "The hypothesis contains 0 counts of 2-gram overlaps.\n",
      "Therefore the BLEU score evaluates to 0, independently of\n",
      "how many N-gram overlaps of lower order it contains.\n",
      "Consider using lower n-gram order or use SmoothingFunction()\n",
      "  warnings.warn(_msg)\n"
     ]
    }
   ],
   "source": [
    "df_test['fr_preds'] = preds\n",
    "df_test['fr_preds']=df_test.fr_preds.apply(lambda x: ' '.join(x))\n",
    "df_test['bleu_score']=df_test.apply(lambda x: bleu_score(x.fr_clean, x.fr_preds), axis=1)"
   ]
  },
  {
   "cell_type": "code",
   "execution_count": 56,
   "id": "2b42887a",
   "metadata": {},
   "outputs": [
    {
     "data": {
      "text/html": [
       "<div>\n",
       "<style scoped>\n",
       "    .dataframe tbody tr th:only-of-type {\n",
       "        vertical-align: middle;\n",
       "    }\n",
       "\n",
       "    .dataframe tbody tr th {\n",
       "        vertical-align: top;\n",
       "    }\n",
       "\n",
       "    .dataframe thead th {\n",
       "        text-align: right;\n",
       "    }\n",
       "</style>\n",
       "<table border=\"1\" class=\"dataframe\">\n",
       "  <thead>\n",
       "    <tr style=\"text-align: right;\">\n",
       "      <th></th>\n",
       "      <th>Unnamed: 0</th>\n",
       "      <th>eng</th>\n",
       "      <th>fr</th>\n",
       "      <th>info</th>\n",
       "      <th>eng_clean</th>\n",
       "      <th>fr_clean</th>\n",
       "      <th>eng_len</th>\n",
       "      <th>fr_len</th>\n",
       "      <th>fr_preds</th>\n",
       "      <th>bleu_score</th>\n",
       "    </tr>\n",
       "  </thead>\n",
       "  <tbody>\n",
       "    <tr>\n",
       "      <th>163625</th>\n",
       "      <td>163625</td>\n",
       "      <td>The doctor told me that I was infertile.</td>\n",
       "      <td>Le docteur m'a appris que j'étais stérile.</td>\n",
       "      <td>CC-BY 2.0 (France) Attribution: tatoeba.org #10624837 (AlanF_US) &amp; #8608350 (Aiji)</td>\n",
       "      <td>the doctor told me that i was infertile</td>\n",
       "      <td>le docteur m a appris que j étais stérile</td>\n",
       "      <td>9</td>\n",
       "      <td>10</td>\n",
       "      <td>le médecin m a dit pourquoi il subsiste</td>\n",
       "      <td>0.189627</td>\n",
       "    </tr>\n",
       "    <tr>\n",
       "      <th>56766</th>\n",
       "      <td>56766</td>\n",
       "      <td>I hear someone singing.</td>\n",
       "      <td>J'entends quelqu'un qui chante.</td>\n",
       "      <td>CC-BY 2.0 (France) Attribution: tatoeba.org #5218768 (mailohilohi) &amp; #6000357 (PERCE_NEIGE)</td>\n",
       "      <td>i hear someone singing</td>\n",
       "      <td>j entends quelqu un qui chante</td>\n",
       "      <td>5</td>\n",
       "      <td>7</td>\n",
       "      <td>j entends entendu le nom</td>\n",
       "      <td>0.371274</td>\n",
       "    </tr>\n",
       "    <tr>\n",
       "      <th>127042</th>\n",
       "      <td>127042</td>\n",
       "      <td>We ate sandwiches for breakfast.</td>\n",
       "      <td>Nous avons mangé des sandwichs pour le petit-déjeuner.</td>\n",
       "      <td>CC-BY 2.0 (France) Attribution: tatoeba.org #249073 (CK) &amp; #567102 (sacredceltic)</td>\n",
       "      <td>we ate sandwiches for breakfast</td>\n",
       "      <td>nous avons mangé des sandwichs pour le petit déjeuner</td>\n",
       "      <td>6</td>\n",
       "      <td>10</td>\n",
       "      <td>nous avons mangé des questions à déjeuner déjeuner</td>\n",
       "      <td>0.586359</td>\n",
       "    </tr>\n",
       "    <tr>\n",
       "      <th>85372</th>\n",
       "      <td>85372</td>\n",
       "      <td>Both spellings are correct.</td>\n",
       "      <td>Les deux orthographes sont correctes.</td>\n",
       "      <td>CC-BY 2.0 (France) Attribution: tatoeba.org #547181 (darinmex) &amp; #548926 (sacredceltic)</td>\n",
       "      <td>both spellings are correct</td>\n",
       "      <td>les deux orthographes sont correctes</td>\n",
       "      <td>5</td>\n",
       "      <td>6</td>\n",
       "      <td>les deux sont sont correctes</td>\n",
       "      <td>0.588937</td>\n",
       "    </tr>\n",
       "    <tr>\n",
       "      <th>120014</th>\n",
       "      <td>120014</td>\n",
       "      <td>They're eating high on the hog.</td>\n",
       "      <td>Ils mènent grand train.</td>\n",
       "      <td>CC-BY 2.0 (France) Attribution: tatoeba.org #307703 (CM) &amp; #1176349 (sacredceltic)</td>\n",
       "      <td>they re eating high on the hog</td>\n",
       "      <td>ils mènent grand train</td>\n",
       "      <td>8</td>\n",
       "      <td>5</td>\n",
       "      <td>ils sont en l</td>\n",
       "      <td>0.154118</td>\n",
       "    </tr>\n",
       "  </tbody>\n",
       "</table>\n",
       "</div>"
      ],
      "text/plain": [
       "       Unnamed: 0                                       eng  \\\n",
       "163625     163625  The doctor told me that I was infertile.   \n",
       "56766       56766                   I hear someone singing.   \n",
       "127042     127042          We ate sandwiches for breakfast.   \n",
       "85372       85372               Both spellings are correct.   \n",
       "120014     120014           They're eating high on the hog.   \n",
       "\n",
       "                                                            fr  \\\n",
       "163625              Le docteur m'a appris que j'étais stérile.   \n",
       "56766                          J'entends quelqu'un qui chante.   \n",
       "127042  Nous avons mangé des sandwichs pour le petit-déjeuner.   \n",
       "85372                    Les deux orthographes sont correctes.   \n",
       "120014                                 Ils mènent grand train.   \n",
       "\n",
       "                                                                                               info  \\\n",
       "163625           CC-BY 2.0 (France) Attribution: tatoeba.org #10624837 (AlanF_US) & #8608350 (Aiji)   \n",
       "56766   CC-BY 2.0 (France) Attribution: tatoeba.org #5218768 (mailohilohi) & #6000357 (PERCE_NEIGE)   \n",
       "127042            CC-BY 2.0 (France) Attribution: tatoeba.org #249073 (CK) & #567102 (sacredceltic)   \n",
       "85372       CC-BY 2.0 (France) Attribution: tatoeba.org #547181 (darinmex) & #548926 (sacredceltic)   \n",
       "120014           CC-BY 2.0 (France) Attribution: tatoeba.org #307703 (CM) & #1176349 (sacredceltic)   \n",
       "\n",
       "                                       eng_clean  \\\n",
       "163625  the doctor told me that i was infertile    \n",
       "56766                    i hear someone singing    \n",
       "127042          we ate sandwiches for breakfast    \n",
       "85372                both spellings are correct    \n",
       "120014           they re eating high on the hog    \n",
       "\n",
       "                                                      fr_clean  eng_len  \\\n",
       "163625              le docteur m a appris que j étais stérile         9   \n",
       "56766                          j entends quelqu un qui chante         5   \n",
       "127042  nous avons mangé des sandwichs pour le petit déjeuner         6   \n",
       "85372                    les deux orthographes sont correctes         5   \n",
       "120014                                 ils mènent grand train         8   \n",
       "\n",
       "        fr_len                                            fr_preds  bleu_score  \n",
       "163625      10             le médecin m a dit pourquoi il subsiste    0.189627  \n",
       "56766        7                            j entends entendu le nom    0.371274  \n",
       "127042      10  nous avons mangé des questions à déjeuner déjeuner    0.586359  \n",
       "85372        6                        les deux sont sont correctes    0.588937  \n",
       "120014       5                                       ils sont en l    0.154118  "
      ]
     },
     "execution_count": 56,
     "metadata": {},
     "output_type": "execute_result"
    }
   ],
   "source": [
    "df_test.head(5)"
   ]
  },
  {
   "cell_type": "code",
   "execution_count": 60,
   "id": "f8c63252",
   "metadata": {},
   "outputs": [
    {
     "data": {
      "text/plain": [
       "0.4334499563860816"
      ]
     },
     "execution_count": 60,
     "metadata": {},
     "output_type": "execute_result"
    }
   ],
   "source": [
    "### Średnia jakoś działania modelu dla zbioru testowego na podstawie metryki BLEU\n",
    "score =  df_test[\"bleu_score\"].mean()\n",
    "score"
   ]
  },
  {
   "cell_type": "code",
   "execution_count": null,
   "id": "bebc5c35",
   "metadata": {},
   "outputs": [],
   "source": []
  }
 ],
 "metadata": {
  "kernelspec": {
   "display_name": "Python 3 (ipykernel)",
   "language": "python",
   "name": "python3"
  },
  "language_info": {
   "codemirror_mode": {
    "name": "ipython",
    "version": 3
   },
   "file_extension": ".py",
   "mimetype": "text/x-python",
   "name": "python",
   "nbconvert_exporter": "python",
   "pygments_lexer": "ipython3",
   "version": "3.10.8"
  }
 },
 "nbformat": 4,
 "nbformat_minor": 5
}
